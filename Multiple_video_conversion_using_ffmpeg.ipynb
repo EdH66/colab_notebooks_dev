{
  "nbformat": 4,
  "nbformat_minor": 0,
  "metadata": {
    "colab": {
      "provenance": [],
      "authorship_tag": "ABX9TyPXNxBPbGuVQwOC1t8bLxyc",
      "include_colab_link": true
    },
    "kernelspec": {
      "name": "python3",
      "display_name": "Python 3"
    },
    "language_info": {
      "name": "python"
    }
  },
  "cells": [
    {
      "cell_type": "markdown",
      "metadata": {
        "id": "view-in-github",
        "colab_type": "text"
      },
      "source": [
        "<a href=\"https://colab.research.google.com/github/EdH66/Colab_notebooks/blob/main/Multiple_video_conversion_using_ffmpeg.ipynb\" target=\"_parent\"><img src=\"https://colab.research.google.com/assets/colab-badge.svg\" alt=\"Open In Colab\"/></a>"
      ]
    },
    {
      "cell_type": "markdown",
      "source": [
        "#Script for video conversion by directory from .avi to .mp4 or back to mp4\n",
        "\n",
        "#Steps\n",
        "\n",
        "1.  Open a free google colab account (very easy)\n",
        "2.  Put the Jupyter notebook file to your google drive and open it\n",
        "    (Colab symbol will be present in the top left corner)\n",
        "3. Add a folder called \"Videos\" of .avi files to convert\n",
        "4. Add a folder called \"Outputs\" for the .MP4s\n",
        "5. Mount your google drive using code below and accept permissions\n",
        "6. Change Video and Output paths as appropriate startin with \"/Content/Drive/My Drive/\n",
        "6. Run remaining code.\n",
        "7. MP4 files will appear in Output folder\n",
        "\n",
        "\n",
        "\n",
        "\n",
        "\n",
        "\n",
        "\n"
      ],
      "metadata": {
        "id": "Dn9x8cE00e31"
      }
    },
    {
      "cell_type": "markdown",
      "source": [
        "# Mount google drive"
      ],
      "metadata": {
        "id": "GrelU0kGk60U"
      }
    },
    {
      "cell_type": "code",
      "execution_count": null,
      "metadata": {
        "colab": {
          "base_uri": "https://localhost:8080/"
        },
        "id": "HTWqEYnvKxSZ",
        "outputId": "af9879b1-865a-46a1-a867-69e0ee1e398c"
      },
      "outputs": [
        {
          "output_type": "stream",
          "name": "stdout",
          "text": [
            "Drive already mounted at /content/drive; to attempt to forcibly remount, call drive.mount(\"/content/drive\", force_remount=True).\n"
          ]
        }
      ],
      "source": [
        "from google.colab import drive\n",
        "drive.mount('/content/drive')"
      ]
    },
    {
      "cell_type": "markdown",
      "source": [
        "# Load video input / output directories\n",
        "\n"
      ],
      "metadata": {
        "id": "M6xv5zZhgyGL"
      }
    },
    {
      "cell_type": "code",
      "source": [
        "#for directories of multiple files\n",
        "\n",
        "video_path = \"/content/drive/My Drive/Colab Notebooks/Video Conversion/Videos\"\n",
        "output_path = \"/content/drive/My Drive/Colab Notebooks/Video Conversion/Output\"\n",
        "\n",
        "#for single files only use below and hash out the above code\n",
        "#video_path = \"/content/drive/My Drive/Colab Notebooks/Video Conversion/021021_OF_M00621658_NM_CD_MET_12wk.avi\"\n",
        "#output_path = \"/content/drive/My Drive/Colab Notebooks/Video Conversion/output.mp4\""
      ],
      "metadata": {
        "id": "O4h-YOWfgmhZ"
      },
      "execution_count": null,
      "outputs": []
    },
    {
      "cell_type": "markdown",
      "source": [
        "#Import os and install ffmpeg"
      ],
      "metadata": {
        "id": "z_0LX7e4Qxy5"
      }
    },
    {
      "cell_type": "code",
      "source": [
        "import os\n",
        "!apt-get install ffmpeg\n"
      ],
      "metadata": {
        "id": "v0d8lQQYLBbJ",
        "colab": {
          "base_uri": "https://localhost:8080/"
        },
        "outputId": "67b54cf3-2f21-48ce-ee0f-217115eafdec"
      },
      "execution_count": null,
      "outputs": [
        {
          "output_type": "stream",
          "name": "stdout",
          "text": [
            "Reading package lists... Done\n",
            "Building dependency tree... Done\n",
            "Reading state information... Done\n",
            "ffmpeg is already the newest version (7:4.4.2-0ubuntu0.22.04.1).\n",
            "0 upgraded, 0 newly installed, 0 to remove and 45 not upgraded.\n"
          ]
        }
      ]
    },
    {
      "cell_type": "markdown",
      "source": [
        "#Create list of files in Videos folder"
      ],
      "metadata": {
        "id": "7ecKL-eVxV7z"
      }
    },
    {
      "cell_type": "code",
      "source": [
        "avi_files = [] # Initialise a list\n",
        "\n",
        "for file in os.listdir(video_path):\n",
        "    if file.endswith(\".avi\"):\n",
        "        full_path = os.path.join(video_path, file) #add path to list\n",
        "        avi_files.append(full_path)\n",
        "\n",
        "mp4_files = [] # Initialise a list\n",
        "\n",
        "for file in os.listdir(video_path):\n",
        "    if file.endswith(\".mp4\"):\n",
        "        full_path = os.path.join(video_path, file) #add path to list\n",
        "        mp4_files.append(full_path)\n",
        "\n",
        "print(\"AVI files found:\")\n",
        "for file in avi_files:\n",
        "    print(file)\n",
        "\n",
        "print(\"mp4 files found:\")\n",
        "for file in mp4_files:\n",
        "    print(file)"
      ],
      "metadata": {
        "colab": {
          "base_uri": "https://localhost:8080/"
        },
        "id": "682J8XUUxwoH",
        "outputId": "d0392084-b551-4352-9654-6d57a21b27a6"
      },
      "execution_count": 33,
      "outputs": [
        {
          "output_type": "stream",
          "name": "stdout",
          "text": [
            "AVI files found:\n",
            "/content/drive/My Drive/Colab Notebooks/Video Conversion/Videos/Testvideo1.avi\n",
            "/content/drive/My Drive/Colab Notebooks/Video Conversion/Videos/Testvideo2.avi\n",
            "/content/drive/My Drive/Colab Notebooks/Video Conversion/Videos/Testvideo3.avi\n",
            "mp4 files found:\n",
            "/content/drive/My Drive/Colab Notebooks/Video Conversion/Videos/Testvideo4.mp4\n",
            "/content/drive/My Drive/Colab Notebooks/Video Conversion/Videos/Testvideo6.mp4\n",
            "/content/drive/My Drive/Colab Notebooks/Video Conversion/Videos/Testvideo5.mp4\n"
          ]
        }
      ]
    },
    {
      "cell_type": "code",
      "source": [
        "#Check if Output folder exists and if not create one\n",
        "\n"
      ],
      "metadata": {
        "id": "J4Pb8SLD1Gu0"
      },
      "execution_count": null,
      "outputs": []
    },
    {
      "cell_type": "markdown",
      "source": [
        "# Run ffmpeg conversion"
      ],
      "metadata": {
        "id": "4cgQrB-8hfek"
      }
    },
    {
      "cell_type": "code",
      "source": [
        "for avi_file in avi_files:\n",
        "    output_file = os.path.join(output_path, os.path.splitext(os.path.basename(avi_file))[0] + '.mp4')\n",
        "    !ffmpeg -i \"{avi_file}\" \"{output_file}\"\n",
        "\n",
        "for mp4_file in mp4_files:\n",
        "    output_file = os.path.join(output_path, os.path.splitext(os.path.basename(mp4_file))[0] + '.avi')\n",
        "    !ffmpeg -i \"{mp4_file}\" \"{output_file}\"\n",
        "\n",
        "#for single files only unhas below and hashout above\n",
        "#!ffmpeg -i \"{video_path}\" \"{output_path}\"\n"
      ],
      "metadata": {
        "id": "JwtxgCguhfFH",
        "colab": {
          "base_uri": "https://localhost:8080/"
        },
        "outputId": "c198f85b-f5c7-4cb8-e627-4c2ad1e56401"
      },
      "execution_count": 34,
      "outputs": [
        {
          "output_type": "stream",
          "name": "stdout",
          "text": [
            "ffmpeg version 4.4.2-0ubuntu0.22.04.1 Copyright (c) 2000-2021 the FFmpeg developers\n",
            "  built with gcc 11 (Ubuntu 11.2.0-19ubuntu1)\n",
            "  configuration: --prefix=/usr --extra-version=0ubuntu0.22.04.1 --toolchain=hardened --libdir=/usr/lib/x86_64-linux-gnu --incdir=/usr/include/x86_64-linux-gnu --arch=amd64 --enable-gpl --disable-stripping --enable-gnutls --enable-ladspa --enable-libaom --enable-libass --enable-libbluray --enable-libbs2b --enable-libcaca --enable-libcdio --enable-libcodec2 --enable-libdav1d --enable-libflite --enable-libfontconfig --enable-libfreetype --enable-libfribidi --enable-libgme --enable-libgsm --enable-libjack --enable-libmp3lame --enable-libmysofa --enable-libopenjpeg --enable-libopenmpt --enable-libopus --enable-libpulse --enable-librabbitmq --enable-librubberband --enable-libshine --enable-libsnappy --enable-libsoxr --enable-libspeex --enable-libsrt --enable-libssh --enable-libtheora --enable-libtwolame --enable-libvidstab --enable-libvorbis --enable-libvpx --enable-libwebp --enable-libx265 --enable-libxml2 --enable-libxvid --enable-libzimg --enable-libzmq --enable-libzvbi --enable-lv2 --enable-omx --enable-openal --enable-opencl --enable-opengl --enable-sdl2 --enable-pocketsphinx --enable-librsvg --enable-libmfx --enable-libdc1394 --enable-libdrm --enable-libiec61883 --enable-chromaprint --enable-frei0r --enable-libx264 --enable-shared\n",
            "  libavutil      56. 70.100 / 56. 70.100\n",
            "  libavcodec     58.134.100 / 58.134.100\n",
            "  libavformat    58. 76.100 / 58. 76.100\n",
            "  libavdevice    58. 13.100 / 58. 13.100\n",
            "  libavfilter     7.110.100 /  7.110.100\n",
            "  libswscale      5.  9.100 /  5.  9.100\n",
            "  libswresample   3.  9.100 /  3.  9.100\n",
            "  libpostproc    55.  9.100 / 55.  9.100\n",
            "Input #0, avi, from '/content/drive/My Drive/Colab Notebooks/Video Conversion/Videos/Testvideo1.avi':\n",
            "  Duration: 00:01:10.07, start: 0.000000, bitrate: 353 kb/s\n",
            "  Stream #0:0: Video: h264 (Main) (H264 / 0x34363248), yuv420p(progressive), 640x480 [SAR 1:1 DAR 4:3], 344 kb/s, 30 fps, 30 tbr, 30 tbn, 60 tbc\n",
            "Stream mapping:\n",
            "  Stream #0:0 -> #0:0 (h264 (native) -> h264 (libx264))\n",
            "Press [q] to stop, [?] for help\n",
            "\u001b[1;36m[libx264 @ 0x5c6893efc2c0] \u001b[0musing SAR=1/1\n",
            "\u001b[1;36m[libx264 @ 0x5c6893efc2c0] \u001b[0musing cpu capabilities: MMX2 SSE2Fast SSSE3 SSE4.2 AVX FMA3 BMI2 AVX2\n",
            "\u001b[1;36m[libx264 @ 0x5c6893efc2c0] \u001b[0mprofile High, level 3.0, 4:2:0, 8-bit\n",
            "\u001b[1;36m[libx264 @ 0x5c6893efc2c0] \u001b[0m264 - core 163 r3060 5db6aa6 - H.264/MPEG-4 AVC codec - Copyleft 2003-2021 - http://www.videolan.org/x264.html - options: cabac=1 ref=3 deblock=1:0:0 analyse=0x3:0x113 me=hex subme=7 psy=1 psy_rd=1.00:0.00 mixed_ref=1 me_range=16 chroma_me=1 trellis=1 8x8dct=1 cqm=0 deadzone=21,11 fast_pskip=1 chroma_qp_offset=-2 threads=3 lookahead_threads=1 sliced_threads=0 nr=0 decimate=1 interlaced=0 bluray_compat=0 constrained_intra=0 bframes=3 b_pyramid=2 b_adapt=1 b_bias=0 direct=1 weightb=1 open_gop=0 weightp=2 keyint=250 keyint_min=25 scenecut=40 intra_refresh=0 rc_lookahead=40 rc=crf mbtree=1 crf=23.0 qcomp=0.60 qpmin=0 qpmax=69 qpstep=4 ip_ratio=1.40 aq=1:1.00\n",
            "Output #0, mp4, to '/content/drive/My Drive/Colab Notebooks/Video Conversion/Output/Testvideo1.mp4':\n",
            "  Metadata:\n",
            "    encoder         : Lavf58.76.100\n",
            "  Stream #0:0: Video: h264 (avc1 / 0x31637661), yuv420p(progressive), 640x480 [SAR 1:1 DAR 4:3], q=2-31, 30 fps, 15360 tbn\n",
            "    Metadata:\n",
            "      encoder         : Lavc58.134.100 libx264\n",
            "    Side data:\n",
            "      cpb: bitrate max/min/avg: 0/0/0 buffer size: 0 vbv_delay: N/A\n",
            "frame= 2098 fps=108 q=-1.0 Lsize=    1327kB time=00:01:09.96 bitrate= 155.4kbits/s speed=3.61x    \n",
            "video:1305kB audio:0kB subtitle:0kB other streams:0kB global headers:0kB muxing overhead: 1.712690%\n",
            "\u001b[1;36m[libx264 @ 0x5c6893efc2c0] \u001b[0mframe I:9     Avg QP:18.13  size: 24072\n",
            "\u001b[1;36m[libx264 @ 0x5c6893efc2c0] \u001b[0mframe P:929   Avg QP:21.30  size:  1062\n",
            "\u001b[1;36m[libx264 @ 0x5c6893efc2c0] \u001b[0mframe B:1160  Avg QP:29.21  size:   114\n",
            "\u001b[1;36m[libx264 @ 0x5c6893efc2c0] \u001b[0mconsecutive B-frames: 23.6%  6.1%  5.4% 64.8%\n",
            "\u001b[1;36m[libx264 @ 0x5c6893efc2c0] \u001b[0mmb I  I16..4:  7.1% 23.3% 69.6%\n",
            "\u001b[1;36m[libx264 @ 0x5c6893efc2c0] \u001b[0mmb P  I16..4:  0.1%  0.1%  0.0%  P16..4: 16.9%  1.7%  2.5%  0.0%  0.0%    skip:78.6%\n",
            "\u001b[1;36m[libx264 @ 0x5c6893efc2c0] \u001b[0mmb B  I16..4:  0.0%  0.0%  0.0%  B16..8:  5.5%  0.2%  0.1%  direct: 0.1%  skip:94.1%  L0:21.6% L1:77.1% BI: 1.3%\n",
            "\u001b[1;36m[libx264 @ 0x5c6893efc2c0] \u001b[0m8x8 transform intra:25.7% inter:65.5%\n",
            "\u001b[1;36m[libx264 @ 0x5c6893efc2c0] \u001b[0mcoded y,uvDC,uvAC intra: 75.1% 47.8% 24.7% inter: 2.4% 3.8% 0.1%\n",
            "\u001b[1;36m[libx264 @ 0x5c6893efc2c0] \u001b[0mi16 v,h,dc,p: 44% 12% 14% 31%\n",
            "\u001b[1;36m[libx264 @ 0x5c6893efc2c0] \u001b[0mi8 v,h,dc,ddl,ddr,vr,hd,vl,hu: 44% 20% 16%  4%  3%  3%  3%  3%  4%\n",
            "\u001b[1;36m[libx264 @ 0x5c6893efc2c0] \u001b[0mi4 v,h,dc,ddl,ddr,vr,hd,vl,hu: 59% 19%  5%  3%  4%  2%  3%  3%  3%\n",
            "\u001b[1;36m[libx264 @ 0x5c6893efc2c0] \u001b[0mi8c dc,h,v,p: 50% 20% 25%  5%\n",
            "\u001b[1;36m[libx264 @ 0x5c6893efc2c0] \u001b[0mWeighted P-Frames: Y:0.1% UV:0.0%\n",
            "\u001b[1;36m[libx264 @ 0x5c6893efc2c0] \u001b[0mref P L0: 79.7%  7.0%  8.9%  4.4%  0.0%\n",
            "\u001b[1;36m[libx264 @ 0x5c6893efc2c0] \u001b[0mref B L0: 90.9%  7.9%  1.2%\n",
            "\u001b[1;36m[libx264 @ 0x5c6893efc2c0] \u001b[0mref B L1: 97.4%  2.6%\n",
            "\u001b[1;36m[libx264 @ 0x5c6893efc2c0] \u001b[0mkb/s:152.80\n",
            "ffmpeg version 4.4.2-0ubuntu0.22.04.1 Copyright (c) 2000-2021 the FFmpeg developers\n",
            "  built with gcc 11 (Ubuntu 11.2.0-19ubuntu1)\n",
            "  configuration: --prefix=/usr --extra-version=0ubuntu0.22.04.1 --toolchain=hardened --libdir=/usr/lib/x86_64-linux-gnu --incdir=/usr/include/x86_64-linux-gnu --arch=amd64 --enable-gpl --disable-stripping --enable-gnutls --enable-ladspa --enable-libaom --enable-libass --enable-libbluray --enable-libbs2b --enable-libcaca --enable-libcdio --enable-libcodec2 --enable-libdav1d --enable-libflite --enable-libfontconfig --enable-libfreetype --enable-libfribidi --enable-libgme --enable-libgsm --enable-libjack --enable-libmp3lame --enable-libmysofa --enable-libopenjpeg --enable-libopenmpt --enable-libopus --enable-libpulse --enable-librabbitmq --enable-librubberband --enable-libshine --enable-libsnappy --enable-libsoxr --enable-libspeex --enable-libsrt --enable-libssh --enable-libtheora --enable-libtwolame --enable-libvidstab --enable-libvorbis --enable-libvpx --enable-libwebp --enable-libx265 --enable-libxml2 --enable-libxvid --enable-libzimg --enable-libzmq --enable-libzvbi --enable-lv2 --enable-omx --enable-openal --enable-opencl --enable-opengl --enable-sdl2 --enable-pocketsphinx --enable-librsvg --enable-libmfx --enable-libdc1394 --enable-libdrm --enable-libiec61883 --enable-chromaprint --enable-frei0r --enable-libx264 --enable-shared\n",
            "  libavutil      56. 70.100 / 56. 70.100\n",
            "  libavcodec     58.134.100 / 58.134.100\n",
            "  libavformat    58. 76.100 / 58. 76.100\n",
            "  libavdevice    58. 13.100 / 58. 13.100\n",
            "  libavfilter     7.110.100 /  7.110.100\n",
            "  libswscale      5.  9.100 /  5.  9.100\n",
            "  libswresample   3.  9.100 /  3.  9.100\n",
            "  libpostproc    55.  9.100 / 55.  9.100\n",
            "Input #0, avi, from '/content/drive/My Drive/Colab Notebooks/Video Conversion/Videos/Testvideo2.avi':\n",
            "  Duration: 00:01:10.07, start: 0.000000, bitrate: 353 kb/s\n",
            "  Stream #0:0: Video: h264 (Main) (H264 / 0x34363248), yuv420p(progressive), 640x480 [SAR 1:1 DAR 4:3], 344 kb/s, 30 fps, 30 tbr, 30 tbn, 60 tbc\n",
            "Stream mapping:\n",
            "  Stream #0:0 -> #0:0 (h264 (native) -> h264 (libx264))\n",
            "Press [q] to stop, [?] for help\n",
            "\u001b[1;36m[libx264 @ 0x55e596ac62c0] \u001b[0musing SAR=1/1\n",
            "\u001b[1;36m[libx264 @ 0x55e596ac62c0] \u001b[0musing cpu capabilities: MMX2 SSE2Fast SSSE3 SSE4.2 AVX FMA3 BMI2 AVX2\n",
            "\u001b[1;36m[libx264 @ 0x55e596ac62c0] \u001b[0mprofile High, level 3.0, 4:2:0, 8-bit\n",
            "\u001b[1;36m[libx264 @ 0x55e596ac62c0] \u001b[0m264 - core 163 r3060 5db6aa6 - H.264/MPEG-4 AVC codec - Copyleft 2003-2021 - http://www.videolan.org/x264.html - options: cabac=1 ref=3 deblock=1:0:0 analyse=0x3:0x113 me=hex subme=7 psy=1 psy_rd=1.00:0.00 mixed_ref=1 me_range=16 chroma_me=1 trellis=1 8x8dct=1 cqm=0 deadzone=21,11 fast_pskip=1 chroma_qp_offset=-2 threads=3 lookahead_threads=1 sliced_threads=0 nr=0 decimate=1 interlaced=0 bluray_compat=0 constrained_intra=0 bframes=3 b_pyramid=2 b_adapt=1 b_bias=0 direct=1 weightb=1 open_gop=0 weightp=2 keyint=250 keyint_min=25 scenecut=40 intra_refresh=0 rc_lookahead=40 rc=crf mbtree=1 crf=23.0 qcomp=0.60 qpmin=0 qpmax=69 qpstep=4 ip_ratio=1.40 aq=1:1.00\n",
            "Output #0, mp4, to '/content/drive/My Drive/Colab Notebooks/Video Conversion/Output/Testvideo2.mp4':\n",
            "  Metadata:\n",
            "    encoder         : Lavf58.76.100\n",
            "  Stream #0:0: Video: h264 (avc1 / 0x31637661), yuv420p(progressive), 640x480 [SAR 1:1 DAR 4:3], q=2-31, 30 fps, 15360 tbn\n",
            "    Metadata:\n",
            "      encoder         : Lavc58.134.100 libx264\n",
            "    Side data:\n",
            "      cpb: bitrate max/min/avg: 0/0/0 buffer size: 0 vbv_delay: N/A\n",
            "frame= 2098 fps= 97 q=-1.0 Lsize=    1327kB time=00:01:09.96 bitrate= 155.4kbits/s speed=3.24x    \n",
            "video:1305kB audio:0kB subtitle:0kB other streams:0kB global headers:0kB muxing overhead: 1.712690%\n",
            "\u001b[1;36m[libx264 @ 0x55e596ac62c0] \u001b[0mframe I:9     Avg QP:18.13  size: 24072\n",
            "\u001b[1;36m[libx264 @ 0x55e596ac62c0] \u001b[0mframe P:929   Avg QP:21.30  size:  1062\n",
            "\u001b[1;36m[libx264 @ 0x55e596ac62c0] \u001b[0mframe B:1160  Avg QP:29.21  size:   114\n",
            "\u001b[1;36m[libx264 @ 0x55e596ac62c0] \u001b[0mconsecutive B-frames: 23.6%  6.1%  5.4% 64.8%\n",
            "\u001b[1;36m[libx264 @ 0x55e596ac62c0] \u001b[0mmb I  I16..4:  7.1% 23.3% 69.6%\n",
            "\u001b[1;36m[libx264 @ 0x55e596ac62c0] \u001b[0mmb P  I16..4:  0.1%  0.1%  0.0%  P16..4: 16.9%  1.7%  2.5%  0.0%  0.0%    skip:78.6%\n",
            "\u001b[1;36m[libx264 @ 0x55e596ac62c0] \u001b[0mmb B  I16..4:  0.0%  0.0%  0.0%  B16..8:  5.5%  0.2%  0.1%  direct: 0.1%  skip:94.1%  L0:21.6% L1:77.1% BI: 1.3%\n",
            "\u001b[1;36m[libx264 @ 0x55e596ac62c0] \u001b[0m8x8 transform intra:25.7% inter:65.5%\n",
            "\u001b[1;36m[libx264 @ 0x55e596ac62c0] \u001b[0mcoded y,uvDC,uvAC intra: 75.1% 47.8% 24.7% inter: 2.4% 3.8% 0.1%\n",
            "\u001b[1;36m[libx264 @ 0x55e596ac62c0] \u001b[0mi16 v,h,dc,p: 44% 12% 14% 31%\n",
            "\u001b[1;36m[libx264 @ 0x55e596ac62c0] \u001b[0mi8 v,h,dc,ddl,ddr,vr,hd,vl,hu: 44% 20% 16%  4%  3%  3%  3%  3%  4%\n",
            "\u001b[1;36m[libx264 @ 0x55e596ac62c0] \u001b[0mi4 v,h,dc,ddl,ddr,vr,hd,vl,hu: 59% 19%  5%  3%  4%  2%  3%  3%  3%\n",
            "\u001b[1;36m[libx264 @ 0x55e596ac62c0] \u001b[0mi8c dc,h,v,p: 50% 20% 25%  5%\n",
            "\u001b[1;36m[libx264 @ 0x55e596ac62c0] \u001b[0mWeighted P-Frames: Y:0.1% UV:0.0%\n",
            "\u001b[1;36m[libx264 @ 0x55e596ac62c0] \u001b[0mref P L0: 79.7%  7.0%  8.9%  4.4%  0.0%\n",
            "\u001b[1;36m[libx264 @ 0x55e596ac62c0] \u001b[0mref B L0: 90.9%  7.9%  1.2%\n",
            "\u001b[1;36m[libx264 @ 0x55e596ac62c0] \u001b[0mref B L1: 97.4%  2.6%\n",
            "\u001b[1;36m[libx264 @ 0x55e596ac62c0] \u001b[0mkb/s:152.80\n",
            "ffmpeg version 4.4.2-0ubuntu0.22.04.1 Copyright (c) 2000-2021 the FFmpeg developers\n",
            "  built with gcc 11 (Ubuntu 11.2.0-19ubuntu1)\n",
            "  configuration: --prefix=/usr --extra-version=0ubuntu0.22.04.1 --toolchain=hardened --libdir=/usr/lib/x86_64-linux-gnu --incdir=/usr/include/x86_64-linux-gnu --arch=amd64 --enable-gpl --disable-stripping --enable-gnutls --enable-ladspa --enable-libaom --enable-libass --enable-libbluray --enable-libbs2b --enable-libcaca --enable-libcdio --enable-libcodec2 --enable-libdav1d --enable-libflite --enable-libfontconfig --enable-libfreetype --enable-libfribidi --enable-libgme --enable-libgsm --enable-libjack --enable-libmp3lame --enable-libmysofa --enable-libopenjpeg --enable-libopenmpt --enable-libopus --enable-libpulse --enable-librabbitmq --enable-librubberband --enable-libshine --enable-libsnappy --enable-libsoxr --enable-libspeex --enable-libsrt --enable-libssh --enable-libtheora --enable-libtwolame --enable-libvidstab --enable-libvorbis --enable-libvpx --enable-libwebp --enable-libx265 --enable-libxml2 --enable-libxvid --enable-libzimg --enable-libzmq --enable-libzvbi --enable-lv2 --enable-omx --enable-openal --enable-opencl --enable-opengl --enable-sdl2 --enable-pocketsphinx --enable-librsvg --enable-libmfx --enable-libdc1394 --enable-libdrm --enable-libiec61883 --enable-chromaprint --enable-frei0r --enable-libx264 --enable-shared\n",
            "  libavutil      56. 70.100 / 56. 70.100\n",
            "  libavcodec     58.134.100 / 58.134.100\n",
            "  libavformat    58. 76.100 / 58. 76.100\n",
            "  libavdevice    58. 13.100 / 58. 13.100\n",
            "  libavfilter     7.110.100 /  7.110.100\n",
            "  libswscale      5.  9.100 /  5.  9.100\n",
            "  libswresample   3.  9.100 /  3.  9.100\n",
            "  libpostproc    55.  9.100 / 55.  9.100\n",
            "Input #0, avi, from '/content/drive/My Drive/Colab Notebooks/Video Conversion/Videos/Testvideo3.avi':\n",
            "  Duration: 00:01:10.07, start: 0.000000, bitrate: 353 kb/s\n",
            "  Stream #0:0: Video: h264 (Main) (H264 / 0x34363248), yuv420p(progressive), 640x480 [SAR 1:1 DAR 4:3], 344 kb/s, 30 fps, 30 tbr, 30 tbn, 60 tbc\n",
            "Stream mapping:\n",
            "  Stream #0:0 -> #0:0 (h264 (native) -> h264 (libx264))\n",
            "Press [q] to stop, [?] for help\n",
            "\u001b[1;36m[libx264 @ 0x5bcf6b4a82c0] \u001b[0musing SAR=1/1\n",
            "\u001b[1;36m[libx264 @ 0x5bcf6b4a82c0] \u001b[0musing cpu capabilities: MMX2 SSE2Fast SSSE3 SSE4.2 AVX FMA3 BMI2 AVX2\n",
            "\u001b[1;36m[libx264 @ 0x5bcf6b4a82c0] \u001b[0mprofile High, level 3.0, 4:2:0, 8-bit\n",
            "\u001b[1;36m[libx264 @ 0x5bcf6b4a82c0] \u001b[0m264 - core 163 r3060 5db6aa6 - H.264/MPEG-4 AVC codec - Copyleft 2003-2021 - http://www.videolan.org/x264.html - options: cabac=1 ref=3 deblock=1:0:0 analyse=0x3:0x113 me=hex subme=7 psy=1 psy_rd=1.00:0.00 mixed_ref=1 me_range=16 chroma_me=1 trellis=1 8x8dct=1 cqm=0 deadzone=21,11 fast_pskip=1 chroma_qp_offset=-2 threads=3 lookahead_threads=1 sliced_threads=0 nr=0 decimate=1 interlaced=0 bluray_compat=0 constrained_intra=0 bframes=3 b_pyramid=2 b_adapt=1 b_bias=0 direct=1 weightb=1 open_gop=0 weightp=2 keyint=250 keyint_min=25 scenecut=40 intra_refresh=0 rc_lookahead=40 rc=crf mbtree=1 crf=23.0 qcomp=0.60 qpmin=0 qpmax=69 qpstep=4 ip_ratio=1.40 aq=1:1.00\n",
            "Output #0, mp4, to '/content/drive/My Drive/Colab Notebooks/Video Conversion/Output/Testvideo3.mp4':\n",
            "  Metadata:\n",
            "    encoder         : Lavf58.76.100\n",
            "  Stream #0:0: Video: h264 (avc1 / 0x31637661), yuv420p(progressive), 640x480 [SAR 1:1 DAR 4:3], q=2-31, 30 fps, 15360 tbn\n",
            "    Metadata:\n",
            "      encoder         : Lavc58.134.100 libx264\n",
            "    Side data:\n",
            "      cpb: bitrate max/min/avg: 0/0/0 buffer size: 0 vbv_delay: N/A\n",
            "frame= 2098 fps=109 q=-1.0 Lsize=    1327kB time=00:01:09.96 bitrate= 155.4kbits/s speed=3.64x    \n",
            "video:1305kB audio:0kB subtitle:0kB other streams:0kB global headers:0kB muxing overhead: 1.712690%\n",
            "\u001b[1;36m[libx264 @ 0x5bcf6b4a82c0] \u001b[0mframe I:9     Avg QP:18.13  size: 24072\n",
            "\u001b[1;36m[libx264 @ 0x5bcf6b4a82c0] \u001b[0mframe P:929   Avg QP:21.30  size:  1062\n",
            "\u001b[1;36m[libx264 @ 0x5bcf6b4a82c0] \u001b[0mframe B:1160  Avg QP:29.21  size:   114\n",
            "\u001b[1;36m[libx264 @ 0x5bcf6b4a82c0] \u001b[0mconsecutive B-frames: 23.6%  6.1%  5.4% 64.8%\n",
            "\u001b[1;36m[libx264 @ 0x5bcf6b4a82c0] \u001b[0mmb I  I16..4:  7.1% 23.3% 69.6%\n",
            "\u001b[1;36m[libx264 @ 0x5bcf6b4a82c0] \u001b[0mmb P  I16..4:  0.1%  0.1%  0.0%  P16..4: 16.9%  1.7%  2.5%  0.0%  0.0%    skip:78.6%\n",
            "\u001b[1;36m[libx264 @ 0x5bcf6b4a82c0] \u001b[0mmb B  I16..4:  0.0%  0.0%  0.0%  B16..8:  5.5%  0.2%  0.1%  direct: 0.1%  skip:94.1%  L0:21.6% L1:77.1% BI: 1.3%\n",
            "\u001b[1;36m[libx264 @ 0x5bcf6b4a82c0] \u001b[0m8x8 transform intra:25.7% inter:65.5%\n",
            "\u001b[1;36m[libx264 @ 0x5bcf6b4a82c0] \u001b[0mcoded y,uvDC,uvAC intra: 75.1% 47.8% 24.7% inter: 2.4% 3.8% 0.1%\n",
            "\u001b[1;36m[libx264 @ 0x5bcf6b4a82c0] \u001b[0mi16 v,h,dc,p: 44% 12% 14% 31%\n",
            "\u001b[1;36m[libx264 @ 0x5bcf6b4a82c0] \u001b[0mi8 v,h,dc,ddl,ddr,vr,hd,vl,hu: 44% 20% 16%  4%  3%  3%  3%  3%  4%\n",
            "\u001b[1;36m[libx264 @ 0x5bcf6b4a82c0] \u001b[0mi4 v,h,dc,ddl,ddr,vr,hd,vl,hu: 59% 19%  5%  3%  4%  2%  3%  3%  3%\n",
            "\u001b[1;36m[libx264 @ 0x5bcf6b4a82c0] \u001b[0mi8c dc,h,v,p: 50% 20% 25%  5%\n",
            "\u001b[1;36m[libx264 @ 0x5bcf6b4a82c0] \u001b[0mWeighted P-Frames: Y:0.1% UV:0.0%\n",
            "\u001b[1;36m[libx264 @ 0x5bcf6b4a82c0] \u001b[0mref P L0: 79.7%  7.0%  8.9%  4.4%  0.0%\n",
            "\u001b[1;36m[libx264 @ 0x5bcf6b4a82c0] \u001b[0mref B L0: 90.9%  7.9%  1.2%\n",
            "\u001b[1;36m[libx264 @ 0x5bcf6b4a82c0] \u001b[0mref B L1: 97.4%  2.6%\n",
            "\u001b[1;36m[libx264 @ 0x5bcf6b4a82c0] \u001b[0mkb/s:152.80\n",
            "ffmpeg version 4.4.2-0ubuntu0.22.04.1 Copyright (c) 2000-2021 the FFmpeg developers\n",
            "  built with gcc 11 (Ubuntu 11.2.0-19ubuntu1)\n",
            "  configuration: --prefix=/usr --extra-version=0ubuntu0.22.04.1 --toolchain=hardened --libdir=/usr/lib/x86_64-linux-gnu --incdir=/usr/include/x86_64-linux-gnu --arch=amd64 --enable-gpl --disable-stripping --enable-gnutls --enable-ladspa --enable-libaom --enable-libass --enable-libbluray --enable-libbs2b --enable-libcaca --enable-libcdio --enable-libcodec2 --enable-libdav1d --enable-libflite --enable-libfontconfig --enable-libfreetype --enable-libfribidi --enable-libgme --enable-libgsm --enable-libjack --enable-libmp3lame --enable-libmysofa --enable-libopenjpeg --enable-libopenmpt --enable-libopus --enable-libpulse --enable-librabbitmq --enable-librubberband --enable-libshine --enable-libsnappy --enable-libsoxr --enable-libspeex --enable-libsrt --enable-libssh --enable-libtheora --enable-libtwolame --enable-libvidstab --enable-libvorbis --enable-libvpx --enable-libwebp --enable-libx265 --enable-libxml2 --enable-libxvid --enable-libzimg --enable-libzmq --enable-libzvbi --enable-lv2 --enable-omx --enable-openal --enable-opencl --enable-opengl --enable-sdl2 --enable-pocketsphinx --enable-librsvg --enable-libmfx --enable-libdc1394 --enable-libdrm --enable-libiec61883 --enable-chromaprint --enable-frei0r --enable-libx264 --enable-shared\n",
            "  libavutil      56. 70.100 / 56. 70.100\n",
            "  libavcodec     58.134.100 / 58.134.100\n",
            "  libavformat    58. 76.100 / 58. 76.100\n",
            "  libavdevice    58. 13.100 / 58. 13.100\n",
            "  libavfilter     7.110.100 /  7.110.100\n",
            "  libswscale      5.  9.100 /  5.  9.100\n",
            "  libswresample   3.  9.100 /  3.  9.100\n",
            "  libpostproc    55.  9.100 / 55.  9.100\n",
            "Input #0, mov,mp4,m4a,3gp,3g2,mj2, from '/content/drive/My Drive/Colab Notebooks/Video Conversion/Videos/Testvideo4.mp4':\n",
            "  Metadata:\n",
            "    major_brand     : isom\n",
            "    minor_version   : 512\n",
            "    compatible_brands: isomiso2avc1mp41\n",
            "    encoder         : Lavf58.76.100\n",
            "  Duration: 00:01:10.07, start: 0.133008, bitrate: 155 kb/s\n",
            "  Stream #0:0(und): Video: h264 (High) (avc1 / 0x31637661), yuv420p, 640x480 [SAR 1:1 DAR 4:3], 152 kb/s, 30 fps, 30 tbr, 15360 tbn, 60 tbc (default)\n",
            "    Metadata:\n",
            "      handler_name    : VideoHandler\n",
            "      vendor_id       : [0][0][0][0]\n",
            "Stream mapping:\n",
            "  Stream #0:0 -> #0:0 (h264 (native) -> mpeg4 (native))\n",
            "Press [q] to stop, [?] for help\n",
            "Output #0, avi, to '/content/drive/My Drive/Colab Notebooks/Video Conversion/Output/Testvideo4.avi':\n",
            "  Metadata:\n",
            "    major_brand     : isom\n",
            "    minor_version   : 512\n",
            "    compatible_brands: isomiso2avc1mp41\n",
            "    ISFT            : Lavf58.76.100\n",
            "  Stream #0:0(und): Video: mpeg4 (FMP4 / 0x34504D46), yuv420p(progressive), 640x480 [SAR 1:1 DAR 4:3], q=2-31, 200 kb/s, 30 fps, 30 tbn (default)\n",
            "    Metadata:\n",
            "      handler_name    : VideoHandler\n",
            "      vendor_id       : [0][0][0][0]\n",
            "      encoder         : Lavc58.134.100 mpeg4\n",
            "    Side data:\n",
            "      cpb: bitrate max/min/avg: 0/0/200000 buffer size: 0 vbv_delay: N/A\n",
            "frame= 2098 fps=533 q=31.0 Lsize=    2214kB time=00:01:09.93 bitrate= 259.3kbits/s speed=17.8x    \n",
            "video:2158kB audio:0kB subtitle:0kB other streams:0kB global headers:0kB muxing overhead: 2.587697%\n",
            "ffmpeg version 4.4.2-0ubuntu0.22.04.1 Copyright (c) 2000-2021 the FFmpeg developers\n",
            "  built with gcc 11 (Ubuntu 11.2.0-19ubuntu1)\n",
            "  configuration: --prefix=/usr --extra-version=0ubuntu0.22.04.1 --toolchain=hardened --libdir=/usr/lib/x86_64-linux-gnu --incdir=/usr/include/x86_64-linux-gnu --arch=amd64 --enable-gpl --disable-stripping --enable-gnutls --enable-ladspa --enable-libaom --enable-libass --enable-libbluray --enable-libbs2b --enable-libcaca --enable-libcdio --enable-libcodec2 --enable-libdav1d --enable-libflite --enable-libfontconfig --enable-libfreetype --enable-libfribidi --enable-libgme --enable-libgsm --enable-libjack --enable-libmp3lame --enable-libmysofa --enable-libopenjpeg --enable-libopenmpt --enable-libopus --enable-libpulse --enable-librabbitmq --enable-librubberband --enable-libshine --enable-libsnappy --enable-libsoxr --enable-libspeex --enable-libsrt --enable-libssh --enable-libtheora --enable-libtwolame --enable-libvidstab --enable-libvorbis --enable-libvpx --enable-libwebp --enable-libx265 --enable-libxml2 --enable-libxvid --enable-libzimg --enable-libzmq --enable-libzvbi --enable-lv2 --enable-omx --enable-openal --enable-opencl --enable-opengl --enable-sdl2 --enable-pocketsphinx --enable-librsvg --enable-libmfx --enable-libdc1394 --enable-libdrm --enable-libiec61883 --enable-chromaprint --enable-frei0r --enable-libx264 --enable-shared\n",
            "  libavutil      56. 70.100 / 56. 70.100\n",
            "  libavcodec     58.134.100 / 58.134.100\n",
            "  libavformat    58. 76.100 / 58. 76.100\n",
            "  libavdevice    58. 13.100 / 58. 13.100\n",
            "  libavfilter     7.110.100 /  7.110.100\n",
            "  libswscale      5.  9.100 /  5.  9.100\n",
            "  libswresample   3.  9.100 /  3.  9.100\n",
            "  libpostproc    55.  9.100 / 55.  9.100\n",
            "Input #0, mov,mp4,m4a,3gp,3g2,mj2, from '/content/drive/My Drive/Colab Notebooks/Video Conversion/Videos/Testvideo6.mp4':\n",
            "  Metadata:\n",
            "    major_brand     : isom\n",
            "    minor_version   : 512\n",
            "    compatible_brands: isomiso2avc1mp41\n",
            "    encoder         : Lavf58.76.100\n",
            "  Duration: 00:01:10.07, start: 0.133008, bitrate: 155 kb/s\n",
            "  Stream #0:0(und): Video: h264 (High) (avc1 / 0x31637661), yuv420p, 640x480 [SAR 1:1 DAR 4:3], 152 kb/s, 30 fps, 30 tbr, 15360 tbn, 60 tbc (default)\n",
            "    Metadata:\n",
            "      handler_name    : VideoHandler\n",
            "      vendor_id       : [0][0][0][0]\n",
            "Stream mapping:\n",
            "  Stream #0:0 -> #0:0 (h264 (native) -> mpeg4 (native))\n",
            "Press [q] to stop, [?] for help\n",
            "Output #0, avi, to '/content/drive/My Drive/Colab Notebooks/Video Conversion/Output/Testvideo6.avi':\n",
            "  Metadata:\n",
            "    major_brand     : isom\n",
            "    minor_version   : 512\n",
            "    compatible_brands: isomiso2avc1mp41\n",
            "    ISFT            : Lavf58.76.100\n",
            "  Stream #0:0(und): Video: mpeg4 (FMP4 / 0x34504D46), yuv420p(progressive), 640x480 [SAR 1:1 DAR 4:3], q=2-31, 200 kb/s, 30 fps, 30 tbn (default)\n",
            "    Metadata:\n",
            "      handler_name    : VideoHandler\n",
            "      vendor_id       : [0][0][0][0]\n",
            "      encoder         : Lavc58.134.100 mpeg4\n",
            "    Side data:\n",
            "      cpb: bitrate max/min/avg: 0/0/200000 buffer size: 0 vbv_delay: N/A\n",
            "frame= 2098 fps=363 q=31.0 Lsize=    2214kB time=00:01:09.93 bitrate= 259.3kbits/s speed=12.1x    \n",
            "video:2158kB audio:0kB subtitle:0kB other streams:0kB global headers:0kB muxing overhead: 2.587697%\n",
            "ffmpeg version 4.4.2-0ubuntu0.22.04.1 Copyright (c) 2000-2021 the FFmpeg developers\n",
            "  built with gcc 11 (Ubuntu 11.2.0-19ubuntu1)\n",
            "  configuration: --prefix=/usr --extra-version=0ubuntu0.22.04.1 --toolchain=hardened --libdir=/usr/lib/x86_64-linux-gnu --incdir=/usr/include/x86_64-linux-gnu --arch=amd64 --enable-gpl --disable-stripping --enable-gnutls --enable-ladspa --enable-libaom --enable-libass --enable-libbluray --enable-libbs2b --enable-libcaca --enable-libcdio --enable-libcodec2 --enable-libdav1d --enable-libflite --enable-libfontconfig --enable-libfreetype --enable-libfribidi --enable-libgme --enable-libgsm --enable-libjack --enable-libmp3lame --enable-libmysofa --enable-libopenjpeg --enable-libopenmpt --enable-libopus --enable-libpulse --enable-librabbitmq --enable-librubberband --enable-libshine --enable-libsnappy --enable-libsoxr --enable-libspeex --enable-libsrt --enable-libssh --enable-libtheora --enable-libtwolame --enable-libvidstab --enable-libvorbis --enable-libvpx --enable-libwebp --enable-libx265 --enable-libxml2 --enable-libxvid --enable-libzimg --enable-libzmq --enable-libzvbi --enable-lv2 --enable-omx --enable-openal --enable-opencl --enable-opengl --enable-sdl2 --enable-pocketsphinx --enable-librsvg --enable-libmfx --enable-libdc1394 --enable-libdrm --enable-libiec61883 --enable-chromaprint --enable-frei0r --enable-libx264 --enable-shared\n",
            "  libavutil      56. 70.100 / 56. 70.100\n",
            "  libavcodec     58.134.100 / 58.134.100\n",
            "  libavformat    58. 76.100 / 58. 76.100\n",
            "  libavdevice    58. 13.100 / 58. 13.100\n",
            "  libavfilter     7.110.100 /  7.110.100\n",
            "  libswscale      5.  9.100 /  5.  9.100\n",
            "  libswresample   3.  9.100 /  3.  9.100\n",
            "  libpostproc    55.  9.100 / 55.  9.100\n",
            "Input #0, mov,mp4,m4a,3gp,3g2,mj2, from '/content/drive/My Drive/Colab Notebooks/Video Conversion/Videos/Testvideo5.mp4':\n",
            "  Metadata:\n",
            "    major_brand     : isom\n",
            "    minor_version   : 512\n",
            "    compatible_brands: isomiso2avc1mp41\n",
            "    encoder         : Lavf58.76.100\n",
            "  Duration: 00:01:10.07, start: 0.133008, bitrate: 155 kb/s\n",
            "  Stream #0:0(und): Video: h264 (High) (avc1 / 0x31637661), yuv420p, 640x480 [SAR 1:1 DAR 4:3], 152 kb/s, 30 fps, 30 tbr, 15360 tbn, 60 tbc (default)\n",
            "    Metadata:\n",
            "      handler_name    : VideoHandler\n",
            "      vendor_id       : [0][0][0][0]\n",
            "Stream mapping:\n",
            "  Stream #0:0 -> #0:0 (h264 (native) -> mpeg4 (native))\n",
            "Press [q] to stop, [?] for help\n",
            "Output #0, avi, to '/content/drive/My Drive/Colab Notebooks/Video Conversion/Output/Testvideo5.avi':\n",
            "  Metadata:\n",
            "    major_brand     : isom\n",
            "    minor_version   : 512\n",
            "    compatible_brands: isomiso2avc1mp41\n",
            "    ISFT            : Lavf58.76.100\n",
            "  Stream #0:0(und): Video: mpeg4 (FMP4 / 0x34504D46), yuv420p(progressive), 640x480 [SAR 1:1 DAR 4:3], q=2-31, 200 kb/s, 30 fps, 30 tbn (default)\n",
            "    Metadata:\n",
            "      handler_name    : VideoHandler\n",
            "      vendor_id       : [0][0][0][0]\n",
            "      encoder         : Lavc58.134.100 mpeg4\n",
            "    Side data:\n",
            "      cpb: bitrate max/min/avg: 0/0/200000 buffer size: 0 vbv_delay: N/A\n",
            "frame= 2098 fps=546 q=31.0 Lsize=    2214kB time=00:01:09.93 bitrate= 259.3kbits/s speed=18.2x    \n",
            "video:2158kB audio:0kB subtitle:0kB other streams:0kB global headers:0kB muxing overhead: 2.587697%\n"
          ]
        }
      ]
    }
  ]
}